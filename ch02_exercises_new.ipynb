{
 "cells": [
  {
   "cell_type": "markdown",
   "metadata": {},
   "source": [
    "# Chapter 2 exercises\n",
    "\n",
    "\n",
    "## Problem 1\n",
    "\n",
    "Table B.1 gives data concerning the performance of the 26 National Football League teams in 1976. It is suspected that the number of yards gained rushing by opponents ($x_8$) has an effect on the number of games won by a team ($y$).\n",
    "\n",
    "1. Fit a simple linear regression model relating games won $y$ to yards gained rushing by opponents $x_8$.\n"
   ]
  },
  {
   "cell_type": "code",
   "execution_count": 1,
   "metadata": {},
   "outputs": [
    {
     "name": "stdout",
     "output_type": "stream",
     "text": [
      "Simple linear regression model trained on 28 observations.\n",
      "The estimated parameters are: \n",
      "   - b0: 21.7883\n",
      "   - b1: -0.0070\n",
      "\n"
     ]
    }
   ],
   "source": [
    "import linear_regression as lr\n",
    "import pandas as pd\n",
    "\n",
    "data = pd.read_csv(\"datasets/b1.csv\")\n",
    "\n",
    "x_data = data[\"x8\"].values\n",
    "y_data = data[\"y\"].values\n",
    "\n",
    "model1 = lr.SimpleLinearRegression(x_data, y_data)\n",
    "print(model1)"
   ]
  },
  {
   "cell_type": "markdown",
   "metadata": {},
   "source": [
    "2. Construct the analysis-of-variance table and test for significance of regression."
   ]
  },
  {
   "cell_type": "code",
   "execution_count": 2,
   "metadata": {},
   "outputs": [
    {
     "name": "stdout",
     "output_type": "stream",
     "text": [
      "Analysis of variance identity breakdown:\n",
      "  - total sum of squares (SST): 326.96,\n",
      "  - regression sum of squares (SSR): 178.09,\n",
      "  - residual sum of squares (SSRes): 148.87,\n",
      "\n",
      "Assuming that the errors are normally distributed, we can use the F-test to check if the model is significant.\n",
      "The F-statistic is: 31.10\n",
      "The 0.95 quantile of the F-distribution with 1 and 26 degrees of freedom is: 4.23\n",
      "The model is significant; the hypothesis H0: b1 = 0 is rejected.\n",
      "\n",
      "The figure below shows the PDF for the F(1, n-2) distribution, and the value of the F-statistic, along with the 95% quantile.\n"
     ]
    },
    {
     "data": {
      "image/png": "[encoded data removed]",
      "text/plain": [
       "<Figure size 1000x600 with 1 Axes>"
      ]
     },
     "metadata": {},
     "output_type": "display_data"
    }
   ],
   "source": [
    "model1.analysis_of_variance()"
   ]
  },
  {
   "cell_type": "markdown",
   "metadata": {},
   "source": [
    "3. Find a 95% CI on the slope."
   ]
  },
  {
   "cell_type": "code",
   "execution_count": 3,
   "metadata": {},
   "outputs": [
    {
     "name": "stdout",
     "output_type": "stream",
     "text": [
      "The 95% confidence interval for the slope parameter b1 is (-0.0096, -0.0044)\n"
     ]
    }
   ],
   "source": [
    "slope_ll, slope_ul = model1.regressor_parameter_confidence_interval(j = 1, alpha = 0.05)\n",
    "print(\"The 95% confidence interval for the slope parameter b1 is ({:.4f}, {:.4f})\".format(slope_ll, slope_ul))"
   ]
  },
  {
   "cell_type": "markdown",
   "metadata": {},
   "source": [
    "4. What percent of the total variability in $y$ is explained by this model?"
   ]
  },
  {
   "cell_type": "code",
   "execution_count": 4,
   "metadata": {},
   "outputs": [
    {
     "name": "stdout",
     "output_type": "stream",
     "text": [
      "The R^2 value for the model is 0.5447\n"
     ]
    }
   ],
   "source": [
    "r2 = model1.coefficient_of_determination()\n",
    "\n",
    "print(\"The R^2 value for the model is {:.4f}\".format(r2))"
   ]
  },
  {
   "cell_type": "markdown",
   "metadata": {},
   "source": [
    "5. Find a 95% CI on the mean number of games won if opponents' yards rushing is limited to 2000 yards."
   ]
  },
  {
   "cell_type": "code",
   "execution_count": 5,
   "metadata": {},
   "outputs": [
    {
     "name": "stdout",
     "output_type": "stream",
     "text": [
      "The 95% prediction interval for the mean response at x0 = 2000 is (6.7658, 8.7103)\n"
     ]
    }
   ],
   "source": [
    "from scipy.stats import t\n",
    "\n",
    "mean_x = sum(x_data) / len(x_data)\n",
    "x0 = 2000\n",
    "\n",
    "c = model1.MSRes * (1 / len(x_data) + (x0 - mean_x) ** 2 / model1.Sxx)\n",
    "mean_response = model1.predict(x0)\n",
    "boundary = t.ppf(0.975, df = len(x_data) - 2)\n",
    "\n",
    "ll = mean_response - boundary * pow(c, 0.5)\n",
    "ul = mean_response + boundary * pow(c, 0.5)\n",
    "\n",
    "print(\"The 95% prediction interval for the mean response at x0 = 2000 is ({:.4f}, {:.4f})\".format(ll, ul))"
   ]
  },
  {
   "cell_type": "markdown",
   "metadata": {},
   "source": [
    "## Problem 2\n",
    "\n",
    "Suppose we would like to use the model developed in Problem 2.1 to predict the number of games a team will win if it can limit opponents' yards rushing to 1800 yards. Find a point estimate of the number of games won when $x_8 = 1800$. Find a 90% prediction interval on the number of games won."
   ]
  },
  {
   "cell_type": "code",
   "execution_count": 9,
   "metadata": {},
   "outputs": [
    {
     "name": "stdout",
     "output_type": "stream",
     "text": [
      "If the value of x is limited to 1800, the point estimate for the mean response is 9.1431\n",
      "The 90% confidence interval for the prediction at x = 1800 is (4.9364, 13.3497)\n"
     ]
    }
   ],
   "source": [
    "x = 1800\n",
    "point_estimate = model1.predict(x)\n",
    "\n",
    "ll, ul = model1.prediction_confidence_interval(x, alpha = 0.1)\n",
    "\n",
    "print(\"If the value of x is limited to 1800, the point estimate for the mean response is {:.4f}\".format(point_estimate))\n",
    "print(\"The 90% confidence interval for the prediction at x = 1800 is ({:.4f}, {:.4f})\".format(ll, ul))"
   ]
  },
  {
   "cell_type": "markdown",
   "metadata": {},
   "source": [
    "## Problem 3\n",
    "\n",
    "Table B.2 presents data collected during a solar energy project at Georgia Tech.\n",
    "1. Fit a simple linear regression model relating total heat flux $y$ (kilowatts) to the radial deflection of the deflected rays $x_4$ (milliradians)."
   ]
  },
  {
   "cell_type": "code",
   "execution_count": 11,
   "metadata": {},
   "outputs": [
    {
     "name": "stdout",
     "output_type": "stream",
     "text": [
      "Simple linear regression model trained on 29 observations.\n",
      "The estimated parameters are: \n",
      "   - b0: 607.1033\n",
      "   - b1: -21.4025\n",
      "\n"
     ]
    }
   ],
   "source": [
    "data = pd.read_csv(\"datasets/b2.csv\")\n",
    "\n",
    "x_data = data[\"x4\"].values\n",
    "y_data = data[\"y\"].values\n",
    "\n",
    "model2 = lr.SimpleLinearRegression(x_data, y_data)\n",
    "print(model2)"
   ]
  },
  {
   "cell_type": "markdown",
   "metadata": {},
   "source": [
    "2. Construct the analysis-of-variance table and test for significance of regression."
   ]
  },
  {
   "cell_type": "code",
   "execution_count": 12,
   "metadata": {},
   "outputs": [
    {
     "name": "stdout",
     "output_type": "stream",
     "text": [
      "Analysis of variance identity breakdown:\n",
      "  - total sum of squares (SST): 14681.93,\n",
      "  - regression sum of squares (SSR): 10578.68,\n",
      "  - residual sum of squares (SSRes): 4103.24,\n",
      "\n",
      "Assuming that the errors are normally distributed, we can use the F-test to check if the model is significant.\n",
      "The F-statistic is: 69.61\n",
      "The 0.95 quantile of the F-distribution with 1 and 27 degrees of freedom is: 4.21\n",
      "The model is significant; the hypothesis H0: b1 = 0 is rejected.\n",
      "\n",
      "The figure below shows the PDF for the F(1, n-2) distribution, and the value of the F-statistic, along with the 95% quantile.\n"
     ]
    },
    {
     "data": {
      "image/png": "[encoded data removed]",
      "text/plain": [
       "<Figure size 1000x600 with 1 Axes>"
      ]
     },
     "metadata": {},
     "output_type": "display_data"
    }
   ],
   "source": [
    "model2.analysis_of_variance()"
   ]
  },
  {
   "cell_type": "markdown",
   "metadata": {},
   "source": [
    "3. Find a 99% CI on the slope."
   ]
  },
  {
   "cell_type": "code",
   "execution_count": 15,
   "metadata": {},
   "outputs": [
    {
     "name": "stdout",
     "output_type": "stream",
     "text": [
      "The 99% confidence interval for the slope parameter b1 is (-28.5100, -14.2950)\n"
     ]
    }
   ],
   "source": [
    "slope_ll, slope_ul = model2.regressor_parameter_confidence_interval(j = 1, alpha = 0.01)\n",
    "\n",
    "print(\"The 99% confidence interval for the slope parameter b1 is ({:.4f}, {:.4f})\".format(slope_ll, slope_ul))"
   ]
  },
  {
   "cell_type": "markdown",
   "metadata": {},
   "source": [
    "4. Calculate $R^2$."
   ]
  },
  {
   "cell_type": "code",
   "execution_count": 16,
   "metadata": {},
   "outputs": [
    {
     "name": "stdout",
     "output_type": "stream",
     "text": [
      "The R2 value for the model is 0.7205\n"
     ]
    }
   ],
   "source": [
    "print(\"The R2 value for the model is {:.4f}\".format(model2.coefficient_of_determination()))"
   ]
  },
  {
   "cell_type": "markdown",
   "metadata": {},
   "source": [
    "5. Find a 95% CI on the mean heat flux when the radial deflection is 16.5 milliradians."
   ]
  },
  {
   "cell_type": "code",
   "execution_count": 17,
   "metadata": {},
   "outputs": [
    {
     "name": "stdout",
     "output_type": "stream",
     "text": [
      "The 95% confidence interval for the mean response at x0 = 16.5 is (249.1468, 258.7787)\n"
     ]
    }
   ],
   "source": [
    "x0 = 16.5\n",
    "\n",
    "mean_response_ll, mean_response_ul = model2.mean_response_confidence_interval(x0, alpha = 0.05)\n",
    "print(\"The 95% confidence interval for the mean response at x0 = 16.5 is ({:.4f}, {:.4f})\".format(mean_response_ll, mean_response_ul))"
   ]
  },
  {
   "cell_type": "code",
   "execution_count": 18,
   "metadata": {},
   "outputs": [
    {
     "name": "stdout",
     "output_type": "stream",
     "text": [
      "The 95% prediction interval for the response at x0 = 16.5 is (228.2140, 279.7114)\n"
     ]
    }
   ],
   "source": [
    "prediction_ll, prediction_ul = model2.prediction_confidence_interval(x0, alpha = 0.05)\n",
    "\n",
    "print(\"The 95% prediction interval for the response at x0 = 16.5 is ({:.4f}, {:.4f})\".format(prediction_ll, prediction_ul))"
   ]
  },
  {
   "cell_type": "code",
   "execution_count": 19,
   "metadata": {},
   "outputs": [],
   "source": [
    "x_mean = sum(x_data) / len(x_data)\n",
    "\n",
    "c = model2.MSRes * (1 + 1 / len(x_data) + (x0 - x_mean) ** 2 / model2.Sxx)"
   ]
  },
  {
   "cell_type": "code",
   "execution_count": 20,
   "metadata": {},
   "outputs": [
    {
     "name": "stdout",
     "output_type": "stream",
     "text": [
      "The 95% prediction interval for the mean response at x0 = 16.5 is (228.2140, 279.7114)\n"
     ]
    }
   ],
   "source": [
    "c = pow(c, 0.5)\n",
    "t_threshold = t.ppf(0.975, df = len(x_data) - 2)\n",
    "\n",
    "ll = model2.predict(x0) - t_threshold * c\n",
    "ul = model2.predict(x0) + t_threshold * c\n",
    "\n",
    "print(\"The 95% prediction interval for the mean response at x0 = 16.5 is ({:.4f}, {:.4f})\".format(ll, ul))"
   ]
  },
  {
   "cell_type": "code",
   "execution_count": null,
   "metadata": {},
   "outputs": [],
   "source": []
  }
 ],
 "metadata": {
  "kernelspec": {
   "display_name": "venv",
   "language": "python",
   "name": "python3"
  },
  "language_info": {
   "codemirror_mode": {
    "name": "ipython",
    "version": 3
   },
   "file_extension": ".py",
   "mimetype": "text/x-python",
   "name": "python",
   "nbconvert_exporter": "python",
   "pygments_lexer": "ipython3",
   "version": "3.11.5"
  },
  "orig_nbformat": 4
 },
 "nbformat": 4,
 "nbformat_minor": 2
}
