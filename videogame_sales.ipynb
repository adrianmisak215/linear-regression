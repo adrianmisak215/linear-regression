{
 "cells": [
  {
   "cell_type": "code",
   "execution_count": 4,
   "metadata": {},
   "outputs": [
    {
     "name": "stdout",
     "output_type": "stream",
     "text": [
      "<class 'pandas.core.frame.DataFrame'>\n",
      "Index: 16291 entries, 0 to 16597\n",
      "Data columns (total 7 columns):\n",
      " #   Column     Non-Null Count  Dtype  \n",
      "---  ------     --------------  -----  \n",
      " 0   Name       16291 non-null  object \n",
      " 1   Platform   16291 non-null  object \n",
      " 2   Year       16291 non-null  float64\n",
      " 3   Genre      16291 non-null  object \n",
      " 4   Publisher  16291 non-null  object \n",
      " 5   NA_Sales   16291 non-null  float64\n",
      " 6   EU_Sales   16291 non-null  float64\n",
      "dtypes: float64(3), object(4)\n",
      "memory usage: 1018.2+ KB\n"
     ]
    }
   ],
   "source": [
    "import pandas as pd\n",
    "import numpy as np\n",
    "import matplotlib.pyplot as plt\n",
    "import linear_regression as lr\n",
    "\n",
    "data = pd.read_csv(\"datasets/vgsales.csv\").dropna().drop([\"Rank\", \"JP_Sales\", \"Other_Sales\", \"Global_Sales\"], axis=1)\n",
    "\n",
    "data.info()"
   ]
  },
  {
   "cell_type": "code",
   "execution_count": 5,
   "metadata": {},
   "outputs": [
    {
     "data": {
      "text/plain": [
       "Platform\n",
       "DS      2131\n",
       "PS2     2127\n",
       "PS3     1304\n",
       "Wii     1290\n",
       "X360    1234\n",
       "PSP     1197\n",
       "PS      1189\n",
       "PC       938\n",
       "XB       803\n",
       "GBA      786\n",
       "GC       542\n",
       "3DS      499\n",
       "PSV      410\n",
       "PS4      336\n",
       "N64      316\n",
       "SNES     239\n",
       "XOne     213\n",
       "SAT      173\n",
       "WiiU     143\n",
       "2600     116\n",
       "NES       98\n",
       "GB        97\n",
       "DC        52\n",
       "GEN       27\n",
       "NG        12\n",
       "SCD        6\n",
       "WS         6\n",
       "3DO        3\n",
       "TG16       2\n",
       "GG         1\n",
       "PCFX       1\n",
       "Name: count, dtype: int64"
      ]
     },
     "execution_count": 5,
     "metadata": {},
     "output_type": "execute_result"
    }
   ],
   "source": [
    "data[\"Platform\"].value_counts().sort_values(ascending=False)"
   ]
  },
  {
   "cell_type": "code",
   "execution_count": 7,
   "metadata": {},
   "outputs": [
    {
     "data": {
      "text/plain": [
       "31"
      ]
     },
     "execution_count": 7,
     "metadata": {},
     "output_type": "execute_result"
    }
   ],
   "source": [
    "number_of_different_platforms = len(data[\"Platform\"].value_counts().sort_values(ascending=False))\n",
    "number_of_different_platforms"
   ]
  },
  {
   "cell_type": "code",
   "execution_count": 8,
   "metadata": {},
   "outputs": [
    {
     "name": "stdout",
     "output_type": "stream",
     "text": [
      "<class 'pandas.core.frame.DataFrame'>\n",
      "RangeIndex: 395 entries, 0 to 394\n",
      "Data columns (total 34 columns):\n",
      " #   Column                 Non-Null Count  Dtype \n",
      "---  ------                 --------------  ----- \n",
      " 0   student_id             395 non-null    int64 \n",
      " 1   school                 395 non-null    object\n",
      " 2   sex                    395 non-null    object\n",
      " 3   age                    395 non-null    int64 \n",
      " 4   address_type           395 non-null    object\n",
      " 5   family_size            395 non-null    object\n",
      " 6   parent_status          395 non-null    object\n",
      " 7   mother_education       395 non-null    object\n",
      " 8   father_education       395 non-null    object\n",
      " 9   mother_job             395 non-null    object\n",
      " 10  father_job             395 non-null    object\n",
      " 11  school_choice_reason   395 non-null    object\n",
      " 12  guardian               395 non-null    object\n",
      " 13  travel_time            395 non-null    object\n",
      " 14  study_time             395 non-null    object\n",
      " 15  class_failures         395 non-null    int64 \n",
      " 16  school_support         395 non-null    object\n",
      " 17  family_support         395 non-null    object\n",
      " 18  extra_paid_classes     395 non-null    object\n",
      " 19  activities             395 non-null    object\n",
      " 20  nursery_school         395 non-null    object\n",
      " 21  higher_ed              395 non-null    object\n",
      " 22  internet_access        395 non-null    object\n",
      " 23  romantic_relationship  395 non-null    object\n",
      " 24  family_relationship    395 non-null    int64 \n",
      " 25  free_time              395 non-null    int64 \n",
      " 26  social                 395 non-null    int64 \n",
      " 27  weekday_alcohol        395 non-null    int64 \n",
      " 28  weekend_alcohol        395 non-null    int64 \n",
      " 29  health                 395 non-null    int64 \n",
      " 30  absences               395 non-null    int64 \n",
      " 31  grade_1                395 non-null    int64 \n",
      " 32  grade_2                395 non-null    int64 \n",
      " 33  final_grade            395 non-null    int64 \n",
      "dtypes: int64(13), object(21)\n",
      "memory usage: 105.1+ KB\n"
     ]
    }
   ],
   "source": [
    "df = pd.read_csv(\"datasets/student_math_clean.csv\")\n",
    "df.info()"
   ]
  },
  {
   "cell_type": "code",
   "execution_count": 13,
   "metadata": {},
   "outputs": [
    {
     "data": {
      "text/plain": [
       "final_grade\n",
       "0     38\n",
       "4      1\n",
       "5      7\n",
       "6     15\n",
       "7      9\n",
       "8     32\n",
       "9     28\n",
       "10    56\n",
       "11    47\n",
       "12    31\n",
       "13    31\n",
       "14    27\n",
       "15    33\n",
       "16    16\n",
       "17     6\n",
       "18    12\n",
       "19     5\n",
       "20     1\n",
       "Name: count, dtype: int64"
      ]
     },
     "execution_count": 13,
     "metadata": {},
     "output_type": "execute_result"
    }
   ],
   "source": [
    "df[\"final_grade\"].value_counts().sort_index()"
   ]
  },
  {
   "cell_type": "code",
   "execution_count": 14,
   "metadata": {},
   "outputs": [
    {
     "data": {
      "text/html": [
       "<div>\n",
       "<style scoped>\n",
       "    .dataframe tbody tr th:only-of-type {\n",
       "        vertical-align: middle;\n",
       "    }\n",
       "\n",
       "    .dataframe tbody tr th {\n",
       "        vertical-align: top;\n",
       "    }\n",
       "\n",
       "    .dataframe thead th {\n",
       "        text-align: right;\n",
       "    }\n",
       "</style>\n",
       "<table border=\"1\" class=\"dataframe\">\n",
       "  <thead>\n",
       "    <tr style=\"text-align: right;\">\n",
       "      <th></th>\n",
       "      <th>Job_Listing</th>\n",
       "      <th>Working_Title</th>\n",
       "      <th>Job Control</th>\n",
       "      <th>Salary_Range</th>\n",
       "      <th>Work_Type/Schedule</th>\n",
       "      <th>Department</th>\n",
       "      <th>Location</th>\n",
       "      <th>Publish_Date</th>\n",
       "      <th>Filing_Deadline</th>\n",
       "      <th>URLs</th>\n",
       "    </tr>\n",
       "  </thead>\n",
       "  <tbody>\n",
       "    <tr>\n",
       "      <th>0</th>\n",
       "      <td>ACCOUNTANT I (SPECIALIST)</td>\n",
       "      <td>Accountant I (Specialist)</td>\n",
       "      <td>400163</td>\n",
       "      <td>$3600.00 - $4506.00</td>\n",
       "      <td>Permanent Fulltime</td>\n",
       "      <td>Department of Consumer Affairs</td>\n",
       "      <td>Sacramento County</td>\n",
       "      <td>11/9/2023</td>\n",
       "      <td>11/21/2023</td>\n",
       "      <td>https://www.calcareers.ca.gov/CalHrPublic/Jobs...</td>\n",
       "    </tr>\n",
       "    <tr>\n",
       "      <th>1</th>\n",
       "      <td>ACCOUNTANT I (SPECIALIST)</td>\n",
       "      <td>Accountant 1 (Specialist)</td>\n",
       "      <td>379743</td>\n",
       "      <td>$3600.00 - $4506.00</td>\n",
       "      <td>Permanent Fulltime</td>\n",
       "      <td>Department of Rehabilitation</td>\n",
       "      <td>Sacramento County</td>\n",
       "      <td>11/9/2023</td>\n",
       "      <td>11/19/2023</td>\n",
       "      <td>https://www.calcareers.ca.gov/CalHrPublic/Jobs...</td>\n",
       "    </tr>\n",
       "    <tr>\n",
       "      <th>2</th>\n",
       "      <td>ACCOUNTANT TRAINEE</td>\n",
       "      <td>Accountant Trainee – Telework Hybrid</td>\n",
       "      <td>402653</td>\n",
       "      <td>$4065.00 - $4992.00</td>\n",
       "      <td>Permanent Fulltime</td>\n",
       "      <td>Department of Motor Vehicles</td>\n",
       "      <td>Sacramento County</td>\n",
       "      <td>11/9/2023</td>\n",
       "      <td>11/28/2023</td>\n",
       "      <td>https://www.calcareers.ca.gov/CalHrPublic/Jobs...</td>\n",
       "    </tr>\n",
       "    <tr>\n",
       "      <th>3</th>\n",
       "      <td>ACCOUNTANT TRAINEE</td>\n",
       "      <td>Accountant Trainee</td>\n",
       "      <td>402217</td>\n",
       "      <td>$4065.00 - $4847.00</td>\n",
       "      <td>Permanent Fulltime</td>\n",
       "      <td>Department of Corrections &amp; Rehabilitation</td>\n",
       "      <td>Sacramento County</td>\n",
       "      <td>11/9/2023</td>\n",
       "      <td>11/24/2023</td>\n",
       "      <td>https://www.calcareers.ca.gov/CalHrPublic/Jobs...</td>\n",
       "    </tr>\n",
       "    <tr>\n",
       "      <th>4</th>\n",
       "      <td>ACCOUNTANT TRAINEE</td>\n",
       "      <td>Accountant Trainee (PC 3141)</td>\n",
       "      <td>366727</td>\n",
       "      <td>$4065.00 - $4992.00</td>\n",
       "      <td>Permanent Fulltime</td>\n",
       "      <td>Department of Education</td>\n",
       "      <td>Sacramento County</td>\n",
       "      <td>11/9/2023</td>\n",
       "      <td>11/20/2023</td>\n",
       "      <td>https://www.calcareers.ca.gov/CalHrPublic/Jobs...</td>\n",
       "    </tr>\n",
       "  </tbody>\n",
       "</table>\n",
       "</div>"
      ],
      "text/plain": [
       "                 Job_Listing                         Working_Title  \\\n",
       "0  ACCOUNTANT I (SPECIALIST)             Accountant I (Specialist)   \n",
       "1  ACCOUNTANT I (SPECIALIST)             Accountant 1 (Specialist)   \n",
       "2         ACCOUNTANT TRAINEE  Accountant Trainee – Telework Hybrid   \n",
       "3         ACCOUNTANT TRAINEE                    Accountant Trainee   \n",
       "4         ACCOUNTANT TRAINEE          Accountant Trainee (PC 3141)   \n",
       "\n",
       "   Job Control         Salary_Range  Work_Type/Schedule  \\\n",
       "0       400163  $3600.00 - $4506.00  Permanent Fulltime   \n",
       "1       379743  $3600.00 - $4506.00  Permanent Fulltime   \n",
       "2       402653  $4065.00 - $4992.00  Permanent Fulltime   \n",
       "3       402217  $4065.00 - $4847.00  Permanent Fulltime   \n",
       "4       366727  $4065.00 - $4992.00  Permanent Fulltime   \n",
       "\n",
       "                                   Department           Location Publish_Date  \\\n",
       "0              Department of Consumer Affairs  Sacramento County    11/9/2023   \n",
       "1                Department of Rehabilitation  Sacramento County    11/9/2023   \n",
       "2                Department of Motor Vehicles  Sacramento County    11/9/2023   \n",
       "3  Department of Corrections & Rehabilitation  Sacramento County    11/9/2023   \n",
       "4                     Department of Education  Sacramento County    11/9/2023   \n",
       "\n",
       "  Filing_Deadline                                               URLs  \n",
       "0      11/21/2023  https://www.calcareers.ca.gov/CalHrPublic/Jobs...  \n",
       "1      11/19/2023  https://www.calcareers.ca.gov/CalHrPublic/Jobs...  \n",
       "2      11/28/2023  https://www.calcareers.ca.gov/CalHrPublic/Jobs...  \n",
       "3      11/24/2023  https://www.calcareers.ca.gov/CalHrPublic/Jobs...  \n",
       "4      11/20/2023  https://www.calcareers.ca.gov/CalHrPublic/Jobs...  "
      ]
     },
     "execution_count": 14,
     "metadata": {},
     "output_type": "execute_result"
    }
   ],
   "source": [
    "df2 = pd.read_csv(\"datasets/CalCareersData.csv\")\n",
    "df2.head()"
   ]
  },
  {
   "cell_type": "code",
   "execution_count": null,
   "metadata": {},
   "outputs": [],
   "source": []
  }
 ],
 "metadata": {
  "kernelspec": {
   "display_name": "venv",
   "language": "python",
   "name": "python3"
  },
  "language_info": {
   "codemirror_mode": {
    "name": "ipython",
    "version": 3
   },
   "file_extension": ".py",
   "mimetype": "text/x-python",
   "name": "python",
   "nbconvert_exporter": "python",
   "pygments_lexer": "ipython3",
   "version": "3.11.5"
  },
  "orig_nbformat": 4
 },
 "nbformat": 4,
 "nbformat_minor": 2
}
