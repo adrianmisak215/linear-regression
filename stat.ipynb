{
 "cells": [
  {
   "cell_type": "markdown",
   "metadata": {},
   "source": [
    "# Chapter 10: Comparing more than two groups\n",
    "\n",
    "\n",
    "Imagine that the goal is to compare $J$ groups having population means $\\mu_1, ..., \\mu_J$. The most common strategy is to begin by testing:\n",
    "$$H_0: \\mu_1 = ... = \\mu_J,$$\n",
    "the hypothesis that all $J$ groups have equal means. \n",
    "\n",
    "The groups are independent if the observations in any two groups are independent. The method assumes:\n",
    "- random sampling,\n",
    "- normality,\n",
    "- all $J$ groups have the same variance.\n",
    "\n",
    "Letting $\\sigma^2_1, ..., \\sigma_J^2$ denote the population variances, this last assumption means that \n",
    "$$\\sigma_1^2=\\sigma_2^2=...=\\sigma_J^2,$$\n",
    "\n",
    "which is called the homogeneity of variance assumption. This assumed common variance is denoted by $\\sigma_p^2$. Heteroscedasticity refers to a situation where not all the variancs are equal.\n",
    "\n",
    "Imagine that the null hypothesis of equal means is true. Then the sample means are all attempting to estimate the same quantity, yet their individual values will vary. The goal is to determine whether the variation among the sample means is sufficiently large to reject the hypothesis of equal population means. Let $\\overline{X}_1, ..., \\overline{X}_J$ be the sample means and momentarily consider the case where all groups have the same sample size, denoted by $n$. We begin by computing the average of the sample means:\n",
    "$$\\overline{X}_G = \\frac{1}{J}\\sum \\overline{X}_j,$$\n",
    "called the grand mean. Next, we measure the variation among these means in much the same way the sample variance, $s^2$, measures the variation among $n$ observations:\n",
    "$$V = \\frac{1}{J-1}\\sum(\\overline{X}_j - \\overline{X}_G)^2.$$\n",
    "\n",
    "It can be shown that when the null hypothesis of equal means is true, $V$ estimates $\\sigma_p^2/n$, the assumed common variance divided by the sample size. Multiplying $V$ by the sample size $n$ yields what is called the mean squares between groups, which estimates the assumed common variance $\\sigma^2_p$ when the null hypothesis is true. The mean squares between groups is:\n",
    "$$MSBG = \\frac{n}{J-1}\\sum(\\overline{X}_j - \\overline{X}_G)^2.$$\n",
    "\n",
    "However, if the null hypothesis is not true, MSBG does not estimate $\\sigma_p^2$, it estimates $\\sigma_p^2$ plus a quantity that reflects how much the population means differ. In other words, the more unequal the population means happen to be, the larger will be MSBG, on average.\n",
    "\n",
    "Next, let $s_1^2, ..., s_J^2$ represent the sample variances corresponding to the $J$ groups. By assumption, all of these sample variances estimate the common population variance $\\sigma_p^2$. We simply average the sample variances to get a single estimate of $\\sigma^2_p$, still assuming equal sample sizes. This average is called the mean squares within groups and is given by:\n",
    "$$MSWG = \\frac{1}{J} \\sum s_j^2.$$\n",
    "\n",
    "The key result is that when the hypothesis of equal means is true, both MSBG and MSWG are attempting to estimate the same quantity, the assumed common variance. When the null hypothesis is false, MSWG continues to estimate the assumed common variance, but MSBG is estimating something larger. We reject the hypothesis of equal means if MSBG is sufficiently larger than MSWG. A convenient way of measuring the extend to which they differ is:\n",
    "$$F = \\frac{MSBG}{MSWG} \\sim F(J-1, N-J),$$\n",
    "where $N=nJ$, since each group has $n$ observations.\n",
    "\n",
    "The hypothesis of equal means is rejected if $F \\geq f$, where $f$ is the $1-\\alpha$ quantile of an $F$ distribution with $\\nu_1 = J-1$, and $\\nu_2 = N - J$ degrees of freedom.\n",
    "\n",
    "<img src=\"images/10_1.png\" height=\"200px\">\n"
   ]
  },
  {
   "cell_type": "markdown",
   "metadata": {},
   "source": [
    "## General procedure\n",
    "\n",
    "$X_{ij}$ refers to the $i$th observation from the $j$th group, $i=1,...,n_j, j=1,...,J$. Compute the following values:\n",
    "- $$A = \\sum \\sum X_{ij}^2, \\quad B = \\sum \\sum X_{ij}, \\quad C = \\sum_{j=1}^{J}\\frac{1}{n_j} \\big( \\sum_{i=1}^{n_j} X_{ij} \\big)^2, \\quad N = \\sum n_j$$\n",
    "- $$SST = A - \\frac{B^2}{N}, \\quad SSBG = C - \\frac{B^2}{N}, \\quad SSWG = A - C,$$\n",
    "- $$\\nu_1 = J - 1, \\quad \\nu_2 = N - J$$\n",
    "- $$MSBG = \\frac{SSBG}{\\nu_1}, \\quad MMSWG = \\frac{SSWG}{\\nu_2}.$$\n",
    "\n",
    "The test statistic is:\n",
    "$$F = \\frac{MSBG}{MSWG}.$$\n",
    "\n",
    "Reject $H_0$ if $F \\geq f$, the $1-\\alpha$ quantile of an $F$ distribution with $\\nu_1 = J - 1$, and $\\nu_2 = N - J$ degrees of freedom."
   ]
  },
  {
   "cell_type": "code",
   "execution_count": 3,
   "metadata": {},
   "outputs": [
    {
     "name": "stdout",
     "output_type": "stream",
     "text": [
      "222.66666666666652 86.66666666666652 136.0 43.33333333333326 5.037037037037037\n",
      "8.602941176470573\n"
     ]
    }
   ],
   "source": [
    "import numpy as np\n",
    "\n",
    "def anova(groups_observations: np.array) -> float:\n",
    "    \"\"\"\n",
    "    Performs the ANOVA test on given list of observations to test the H0 hypothesis of equal means across groups.\n",
    "    Each group is a list of observations, so the input variable is a list of lists. Returns the value of the F statistic.\n",
    "    \"\"\"\n",
    "\n",
    "    A = 0\n",
    "    B = 0\n",
    "    C = 0\n",
    "    N = 0\n",
    "\n",
    "    for group in groups_observations:\n",
    "        A += np.sum(np.square(group))\n",
    "        B += np.sum(group)\n",
    "        C += (np.sum(group) ** 2) / len(group)\n",
    "        N += len(group)\n",
    "\n",
    "    SST = A - (B ** 2) / N\n",
    "    SSBG = C - (B ** 2) / N\n",
    "    SSWG = A - C\n",
    "\n",
    "    df1 = len(groups_observations) - 1\n",
    "    df2 = N - len(groups_observations)\n",
    "\n",
    "    MSBG = SSBG / df1\n",
    "    MSWG = SSWG / df2\n",
    "\n",
    "    F = MSBG / MSWG\n",
    "\n",
    "    print(SST, SSBG, SSWG, MSBG, MSWG)\n",
    "\n",
    "    return F\n",
    "\n",
    "A = np.array([7, 9, 8, 12, 8, 7, 4, 10, 9, 6])\n",
    "B = np.array([10, 13, 9, 11, 5, 9, 8, 10, 8, 7])\n",
    "C = np.array([12, 11, 15, 7, 14, 10, 12, 12, 13, 14])\n",
    "\n",
    "groups_observations = np.array([A, B, C])\n",
    "\n",
    "print(anova(groups_observations))"
   ]
  },
  {
   "cell_type": "code",
   "execution_count": null,
   "metadata": {},
   "outputs": [],
   "source": []
  }
 ],
 "metadata": {
  "kernelspec": {
   "display_name": "venv",
   "language": "python",
   "name": "python3"
  },
  "language_info": {
   "codemirror_mode": {
    "name": "ipython",
    "version": 3
   },
   "file_extension": ".py",
   "mimetype": "text/x-python",
   "name": "python",
   "nbconvert_exporter": "python",
   "pygments_lexer": "ipython3",
   "version": "3.11.5"
  },
  "orig_nbformat": 4
 },
 "nbformat": 4,
 "nbformat_minor": 2
}
