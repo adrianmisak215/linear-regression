{
 "cells": [
  {
   "cell_type": "markdown",
   "metadata": {},
   "source": [
    "# 7. Polynomial regression models\n",
    "\n",
    "\n",
    "Polynomials are widely used in situations where the response is curvilinear, as even complex nonlinear relationships can be adequately modeled by polynomials over reasonably small ranges of the $x$'s.\n",
    "\n",
    "\n",
    "## 7.2 Polynomial models in one variable\n",
    "\n",
    "In general, the $k$th order polynomial model in one variable is:\n",
    "$$y = b_0 + b_1x + b_2x^2 + ... + b_kx^k + e.$$\n",
    "\n",
    "By setting $x_j = x^j$, then the equation becomes a multiple linear regression model in the $k$ regressors $x_1, ..., x_k$.\n",
    "\n",
    "Polynomial models are useful in situations where the analyst knows that curvi- linear effects are present in the true response function. They are also useful as approximating functions to unknown and possibly very complex nonlinear relation- ships. In this sense, the polynomial model is just the Taylor series expansion of the unknown function. This type of application seems to occur most often in practice. There are several important considerations that arise when fitting a polynomial in one variable.\n",
    "\n",
    "1. Order of the model: keep the order of the model as low as possible. When the response function appears curvilinear, transformations should be tried to keep the model first order. As a geneal rule, the use of high-order polynomials ($k > 2$) should be avoided unless they can be justified for reasons outside of data. A low order model in transformed vaiable is almost always preferable to a high-order model in the original metric.\n",
    "2. Model building strategy: Various strategies for choosing the order of an approximating polynomial have been suggested. One approach is to successively fit models of increasing order until the t test for the highest order term is nonsignificant. An alternate procedure is to appropriately fit the highest order model and then delete terms one at a time, starting with the highest order, until the highest order remaining term has a significant t statistic. These two procedures are called forward selection and backward elimination, respectively. \n",
    "3. Extrapolation: In general, polynomial models may turn in unanticipated and inappropriate directions, both in interpolation and in extrapolation.\n",
    "\n",
    "### 7.2.2 Piecewise Polynomial Fitting (splines)"
   ]
  },
  {
   "cell_type": "code",
   "execution_count": null,
   "metadata": {},
   "outputs": [],
   "source": []
  }
 ],
 "metadata": {
  "language_info": {
   "name": "python"
  },
  "orig_nbformat": 4
 },
 "nbformat": 4,
 "nbformat_minor": 2
}
