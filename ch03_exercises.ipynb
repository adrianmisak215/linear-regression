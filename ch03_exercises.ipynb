{
 "cells": [
  {
   "cell_type": "markdown",
   "metadata": {},
   "source": [
    "# Chapter 3\n",
    "\n",
    "## 3.1\n",
    "\n",
    "Consider the National Football League data in Table B.1.\n",
    "1. Fit a multiple linear regression model relating the number of games won\n",
    "to the team’s passing yardage ($x_2$), the percentage of rushing plays ($x_7$), and the opponents’ yards rushing ($x_8$).\n",
    "2. Construct the analysis-of-variance table and test for significance of regression.\n",
    "3. Calculate $t$ statistics for testing the hypotheses $H0: b_2 = 0$, $H0: b_7 = 0$, and $H0: b_8 = 0$. What conclusions can you draw about the roles the variables $x_2, x_7,$ and $x_8$ play in the model?\n",
    "4. Calculate $R^2$ and $R^2_{Adj}$ for this model.\n",
    "5. Using the partial $F$ test, determine the contribution of $x_7$ to the model. How is this partial $F$ statistic related to the $t$ test for $b_7$ calculated in part c above?"
   ]
  },
  {
   "cell_type": "code",
   "execution_count": 2,
   "metadata": {},
   "outputs": [
    {
     "name": "stdout",
     "output_type": "stream",
     "text": [
      "Least square estimators for the model parameters: \n",
      "  - intercept:  -1.808372058706027\n",
      "  - x2:  0.0035980702139767617\n",
      "  - x7:  0.19396020958323845\n",
      "  - x8:  -0.004815493970050266\n"
     ]
    }
   ],
   "source": [
    "import pandas as pd\n",
    "import linear_regression as lr\n",
    "import numpy as np\n",
    "import matplotlib.pyplot as plt\n",
    "\n",
    "problem_1_dataset = pd.read_csv(\"datasets/b1.csv\")\n",
    "problem_1_dataset = problem_1_dataset[[\"x2\", \"x7\", \"x8\", \"y\"]]\n",
    "\n",
    "p1_x = np.array(problem_1_dataset[[\"x2\", \"x7\", \"x8\"]].values)\n",
    "p1_y = np.array(problem_1_dataset[[\"y\"]].values).ravel()\n",
    "\n",
    "model1 = lr.MultipleLinearRegression(X=p1_x, y=p1_y)\n",
    "print(\"Least square estimators for the model parameters: \")\n",
    "print(\"  - intercept: \", model1._parameters[0])\n",
    "print(\"  - x2: \", model1._parameters[1])\n",
    "print(\"  - x7: \", model1._parameters[2])\n",
    "print(\"  - x8: \", model1._parameters[3])"
   ]
  },
  {
   "cell_type": "code",
   "execution_count": 3,
   "metadata": {},
   "outputs": [
    {
     "name": "stdout",
     "output_type": "stream",
     "text": [
      "Analysis of variance identity breakdown:\n",
      "  - total sum of squares (SST): 326.96,\n",
      "  - regression sum of squares (SSR): 257.09,\n",
      "  - residual sum of squares (SSRes): 69.87,\n",
      "\n",
      "Assuming that the errors are normally distributed, we can use the F-test to check if the model is significant.\n",
      "The H0 hypothesis being tested is: b1 = b2 = ... = bp = 0.\n",
      "The F-statistic is: 30.66\n",
      "The 0.95 quantile of the F-distribution with 2 and 25 degrees of freedom is: 3.39\n",
      "The model is significant; the hypothesis H0: b1 = b2 = ... = bp = 0 is rejected.\n",
      "\n",
      "The figure below shows the PDF for the F(p-1, n-p) distribution, and the value of the F-statistic, along with the 95% quantile.\n"
     ]
    },
    {
     "data": {
      "image/png": "[encoded data removed]",
      "text/plain": [
       "<Figure size 1000x600 with 1 Axes>"
      ]
     },
     "metadata": {},
     "output_type": "display_data"
    }
   ],
   "source": [
    "model1.analysis_of_variance()"
   ]
  },
  {
   "cell_type": "code",
   "execution_count": 4,
   "metadata": {},
   "outputs": [
    {
     "name": "stdout",
     "output_type": "stream",
     "text": [
      "#------------------------------------------------------------------\n",
      "Running the t-test for significance of parameter b0...\n",
      "   - value of t statistic:  -0.23360268930790606\n",
      "   - value of t statistic boundary:  2.0595385527532946\n",
      "   - H0 hypothesis b0 = 0 is: NOT REJECTED\n",
      "\n",
      "#------------------------------------------------------------------\n",
      "Running the t-test for significance of parameter b1...\n",
      "   - value of t statistic:  5.283845600131552\n",
      "   - value of t statistic boundary:  2.0595385527532946\n",
      "   - H0 hypothesis b1 = 0 is: REJECTED\n",
      "\n",
      "#------------------------------------------------------------------\n",
      "Running the t-test for significance of parameter b2...\n",
      "   - value of t statistic:  2.243591434971227\n",
      "   - value of t statistic boundary:  2.0595385527532946\n",
      "   - H0 hypothesis b2 = 0 is: REJECTED\n",
      "\n",
      "#------------------------------------------------------------------\n",
      "Running the t-test for significance of parameter b3...\n",
      "   - value of t statistic:  -3.848797961737942\n",
      "   - value of t statistic boundary:  2.0595385527532946\n",
      "   - H0 hypothesis b3 = 0 is: REJECTED\n",
      "\n"
     ]
    }
   ],
   "source": [
    "model1.individual_parameter_significance()"
   ]
  },
  {
   "cell_type": "code",
   "execution_count": 5,
   "metadata": {},
   "outputs": [
    {
     "name": "stdout",
     "output_type": "stream",
     "text": [
      "The coefficient of determination R^2 is: 0.79\n",
      "The adjusted coefficient of determination R^2 is: 0.77\n"
     ]
    },
    {
     "data": {
      "text/plain": [
       "{'r2': 0.7863069233111879, 'r2_adj': 0.769211477176083}"
      ]
     },
     "execution_count": 5,
     "metadata": {},
     "output_type": "execute_result"
    }
   ],
   "source": [
    "model1.coefficient_of_determination_analysis(verbose = True)"
   ]
  },
  {
   "cell_type": "markdown",
   "metadata": {},
   "source": [
    "## 3.5\n",
    "\n",
    "Consider the gasoline mileage data in Table B.3.\n",
    "1. Fit a multiple linear regression model relating gasoline mileage $y$ (miles per gallon) to engine displacement $x_1$ and the number of carburetor barrels $x_6$.\n",
    "2. Construct the analysis-of-variance table and test for significance of regression.\n",
    "3. Calculate $R^2$ and $R^2_{Adj}$ for this model. Compare this to the $R^2$ and the $R^2_{Adj}$ for the simple linear regression model relating mileage to engine displacement in Problem 2.4.\n",
    "4. Find a 95% CI for $b_1$.\n",
    "5. Compute the $t$ statistics for testing $H_0: b_1 = 0$ and $H_0: b_6 = 0$. What conclusions can you draw?\n",
    "6. Find a 95% CI on the mean gasoline mileage when $x_1 = 275 in^3$ and $x_6 = 2$ barrels.\n",
    "7. Find a 95% prediction interval for a new observation on gasoline mileage when $x_1 = 257 in^3$ and $x_6 = 2$ barrels."
   ]
  },
  {
   "cell_type": "code",
   "execution_count": 6,
   "metadata": {},
   "outputs": [
    {
     "name": "stdout",
     "output_type": "stream",
     "text": [
      "Multiple linear regression model trained on 32 observations with 2 parameters.\n",
      "The estimated parameters are: \n",
      "   - b0: 31.08\n",
      "   - b1: -0.05\n",
      "   - b2: 1.24\n",
      "\n"
     ]
    }
   ],
   "source": [
    "df = pd.read_csv(\"datasets/b3.csv\")[[\"x1\", \"x6\", \"y\"]]\n",
    "\n",
    "X_data = np.array(df[[\"x1\", \"x6\"]].values)\n",
    "y_data = np.array(df[[\"y\"]].values).ravel()\n",
    "\n",
    "model2 = lr.MultipleLinearRegression(X=X_data, y=y_data)\n",
    "print(model2)\n"
   ]
  },
  {
   "cell_type": "code",
   "execution_count": 7,
   "metadata": {},
   "outputs": [
    {
     "name": "stdout",
     "output_type": "stream",
     "text": [
      "Analysis of variance identity breakdown:\n",
      "  - total sum of squares (SST): 1301.11,\n",
      "  - regression sum of squares (SSR): 710.78,\n",
      "  - residual sum of squares (SSRes): 590.32,\n",
      "\n",
      "Assuming that the errors are normally distributed, we can use the F-test to check if the model is significant.\n",
      "The H0 hypothesis being tested is: b1 = b2 = ... = bp = 0.\n",
      "The F-statistic is: 18.06\n",
      "The 0.95 quantile of the F-distribution with 1 and 30 degrees of freedom is: 4.17\n",
      "The model is significant; the hypothesis H0: b1 = b2 = ... = bp = 0 is rejected.\n",
      "\n",
      "The figure below shows the PDF for the F(p-1, n-p) distribution, and the value of the F-statistic, along with the 95% quantile.\n"
     ]
    },
    {
     "data": {
      "image/png": "[encoded data removed]",
      "text/plain": [
       "<Figure size 1000x600 with 1 Axes>"
      ]
     },
     "metadata": {},
     "output_type": "display_data"
    }
   ],
   "source": [
    "model2.analysis_of_variance()"
   ]
  },
  {
   "cell_type": "code",
   "execution_count": 8,
   "metadata": {},
   "outputs": [
    {
     "name": "stdout",
     "output_type": "stream",
     "text": [
      "The coefficient of determination R^2 is: 0.55\n",
      "The adjusted coefficient of determination R^2 is: 0.53\n"
     ]
    }
   ],
   "source": [
    "r2 = model2.coefficient_of_determination_analysis(verbose = True)"
   ]
  },
  {
   "cell_type": "code",
   "execution_count": 9,
   "metadata": {},
   "outputs": [
    {
     "name": "stdout",
     "output_type": "stream",
     "text": [
      "The 95% confidence interval for the parameter b1 is: [ -0.06589760203511737 ,  -0.02903846113159371 ]\n"
     ]
    }
   ],
   "source": [
    "b1_ll, b1_ul = model2.regressor_parameter_confidence_interval(j = 1, alpha = 0.05)\n",
    "print(\"The 95% confidence interval for the parameter b1 is: [\", b1_ll, \", \", b1_ul, \"]\")"
   ]
  },
  {
   "cell_type": "code",
   "execution_count": 10,
   "metadata": {},
   "outputs": [
    {
     "name": "stdout",
     "output_type": "stream",
     "text": [
      "#------------------------------------------------------------------\n",
      "Running the t-test for significance of parameter b0...\n",
      "   - value of t statistic:  13.737409760795696\n",
      "   - value of t statistic boundary:  2.042272456301238\n",
      "   - H0 hypothesis b0 = 0 is: REJECTED\n",
      "\n",
      "#------------------------------------------------------------------\n",
      "Running the t-test for significance of parameter b1...\n",
      "   - value of t statistic:  -5.260168906880667\n",
      "   - value of t statistic boundary:  2.042272456301238\n",
      "   - H0 hypothesis b1 = 0 is: REJECTED\n",
      "\n",
      "#------------------------------------------------------------------\n",
      "Running the t-test for significance of parameter b2...\n",
      "   - value of t statistic:  1.260523306313764\n",
      "   - value of t statistic boundary:  2.042272456301238\n",
      "   - H0 hypothesis b2 = 0 is: NOT REJECTED\n",
      "\n"
     ]
    }
   ],
   "source": [
    "model2.individual_parameter_significance()"
   ]
  },
  {
   "cell_type": "code",
   "execution_count": 12,
   "metadata": {},
   "outputs": [
    {
     "name": "stdout",
     "output_type": "stream",
     "text": [
      "The 95% confidence interval for the mean response is: [ 18.57727034137411 ,  22.44490482436175 ]\n"
     ]
    }
   ],
   "source": [
    "x1 = 275\n",
    "x6 = 2\n",
    "\n",
    "x_input = np.array([1, x1, x6])\n",
    "mean_response_ll, mean_response_ul = model2.mean_response_confidence_interval(x_input, alpha = 0.05)\n",
    "print(\"The 95% confidence interval for the mean response is: [\", mean_response_ll, \", \", mean_response_ul, \"]\")"
   ]
  },
  {
   "cell_type": "code",
   "execution_count": 13,
   "metadata": {},
   "outputs": [],
   "source": [
    "prediction_ll, prediction_ul = model2.prediction_confidence_interval(x_input, alpha = 0.05)"
   ]
  },
  {
   "cell_type": "code",
   "execution_count": 14,
   "metadata": {},
   "outputs": [
    {
     "name": "stdout",
     "output_type": "stream",
     "text": [
      "The 95% prediction interval for the mean response is: [ 11.247627978573163 ,  29.774547187162696 ]\n"
     ]
    }
   ],
   "source": [
    "print(\"The 95% prediction interval for the mean response is: [\", prediction_ll, \", \", prediction_ul, \"]\")"
   ]
  },
  {
   "cell_type": "code",
   "execution_count": null,
   "metadata": {},
   "outputs": [],
   "source": []
  }
 ],
 "metadata": {
  "kernelspec": {
   "display_name": "venv",
   "language": "python",
   "name": "python3"
  },
  "language_info": {
   "codemirror_mode": {
    "name": "ipython",
    "version": 3
   },
   "file_extension": ".py",
   "mimetype": "text/x-python",
   "name": "python",
   "nbconvert_exporter": "python",
   "pygments_lexer": "ipython3",
   "version": "3.11.5"
  },
  "orig_nbformat": 4
 },
 "nbformat": 4,
 "nbformat_minor": 2
}
