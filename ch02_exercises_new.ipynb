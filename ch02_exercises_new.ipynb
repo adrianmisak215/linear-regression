{
 "cells": [
  {
   "cell_type": "markdown",
   "metadata": {},
   "source": [
    "# Chapter 2 exercises\n",
    "\n",
    "Table B.1 gives data concerning the performance of the 26 National Football League teams in 1976. It is suspected that the number of yards gained rushing by opponents ($x_8$) has an effect on the number of games won by a team ($y$).\n",
    "\n",
    "1. Fit a simple linear regression model relating games won $y$ to yards gained rushing by opponents $x_8$.\n",
    "2. Construct the analysis-of-variance table and test for significance of regression.\n",
    "3. Find a 95% CI on the slope.\n",
    "4. What percent of the total variability in y is explained by this model?\n",
    "5. Find a 95% CI on the mean number of games won if opponents’ yards rushing is limited to 2000 yards.\n"
   ]
  },
  {
   "cell_type": "code",
   "execution_count": 1,
   "metadata": {},
   "outputs": [
    {
     "ename": "AttributeError",
     "evalue": "module 'linear_regression' has no attribute 'SimpleLinearRegression'",
     "output_type": "error",
     "traceback": [
      "\u001b[0;31m---------------------------------------------------------------------------\u001b[0m",
      "\u001b[0;31mAttributeError\u001b[0m                            Traceback (most recent call last)",
      "Cell \u001b[0;32mIn[1], line 9\u001b[0m\n\u001b[1;32m      6\u001b[0m x_data \u001b[39m=\u001b[39m data[\u001b[39m\"\u001b[39m\u001b[39mx8\u001b[39m\u001b[39m\"\u001b[39m]\u001b[39m.\u001b[39mvalues\n\u001b[1;32m      7\u001b[0m y_data \u001b[39m=\u001b[39m data[\u001b[39m\"\u001b[39m\u001b[39my\u001b[39m\u001b[39m\"\u001b[39m]\u001b[39m.\u001b[39mvalues\n\u001b[0;32m----> 9\u001b[0m model1 \u001b[39m=\u001b[39m lr\u001b[39m.\u001b[39;49mSimpleLinearRegression(x_data, y_data)\n\u001b[1;32m     10\u001b[0m \u001b[39mprint\u001b[39m(model1)\n",
      "\u001b[0;31mAttributeError\u001b[0m: module 'linear_regression' has no attribute 'SimpleLinearRegression'"
     ]
    }
   ],
   "source": [
    "import linear_regression as lr\n",
    "import pandas as pd\n",
    "\n",
    "data = pd.read_csv(\"datasets/b1.csv\")\n",
    "\n",
    "x_data = data[\"x8\"].values\n",
    "y_data = data[\"y\"].values\n",
    "\n",
    "model1 = lr.SimpleLinearRegression(x_data, y_data)\n",
    "print(model1)"
   ]
  },
  {
   "cell_type": "code",
   "execution_count": null,
   "metadata": {},
   "outputs": [],
   "source": []
  }
 ],
 "metadata": {
  "kernelspec": {
   "display_name": "venv",
   "language": "python",
   "name": "python3"
  },
  "language_info": {
   "codemirror_mode": {
    "name": "ipython",
    "version": 3
   },
   "file_extension": ".py",
   "mimetype": "text/x-python",
   "name": "python",
   "nbconvert_exporter": "python",
   "pygments_lexer": "ipython3",
   "version": "3.11.5"
  },
  "orig_nbformat": 4
 },
 "nbformat": 4,
 "nbformat_minor": 2
}
